{
  "nbformat": 4,
  "nbformat_minor": 0,
  "metadata": {
    "colab": {
      "name": "Google image scraper",
      "provenance": [],
      "collapsed_sections": []
    },
    "kernelspec": {
      "name": "python3",
      "display_name": "Python 3"
    }
  },
  "cells": [
    {
      "cell_type": "markdown",
      "metadata": {
        "id": "NgdAZi6hyJ9V"
      },
      "source": [
        "# Google image scraper\n",
        "#### Written by Rutuparn Pawar <InputBlackBoxOutput>\n",
        "#### Created on 16 Aug 2020"
      ]
    },
    {
      "cell_type": "code",
      "metadata": {
        "id": "3ZdQXx2fIICl"
      },
      "source": [
        "# Edit path to where you want to save the images\n",
        "!path=\"\"\n",
        "!cd $path\n"
      ],
      "execution_count": 1,
      "outputs": []
    },
    {
      "cell_type": "code",
      "metadata": {
        "id": "NdXYjodWeCj4"
      },
      "source": [
        "import requests\n",
        "\n",
        "import urllib3\n",
        "http = urllib3.PoolManager()\n",
        "\n",
        "import warnings\n",
        "warnings.filterwarnings('ignore', message='Unverified HTTPS request')\n",
        "\n",
        "from io import BytesIO\n",
        "import PIL.Image as Image\n",
        "\n",
        "from html.parser import HTMLParser\n",
        "from html.entities import name2codepoint\n",
        "\n",
        "import os, sys\n",
        "from tqdm import tqdm\n",
        "import string\n",
        "\n",
        "#------------------------------------------------------------------------------------------------\n",
        "class SrcExtractor(HTMLParser):\n",
        "  src = []\n",
        "  def handle_starttag(self, tag, attrs):\n",
        "    if tag == \"img\":\n",
        "      for each in attrs:\n",
        "        if each[0] == \"data-src\":\n",
        "          # print(each[1])\n",
        "          self.src.append(each[1])\n",
        "         \n",
        "srcExtractor = SrcExtractor()\n",
        "\n",
        "#------------------------------------------------------------------------------------------------\n",
        "headers = {\n",
        "    'User-Agent': \"Mozilla/5.0 (X11; Linux x86_64) AppleWebKit/537.36 (KHTML, like Gecko) Chrome/77.0.3865.90 Safari/537.36\"\n",
        "    } \n",
        "\n",
        "#------------------------------------------------------------------------------------------------\n",
        "def getImages(search, limit=30, outDir=None, addon=\"\"):\n",
        "\ttry:\n",
        "\t\tprint(\"\\033[96m\"+ f\"Keyword:{search}\" +\"\\033[00m\\n\") \n",
        "\n",
        "\t\ttry:\n",
        "\t\t\tprint(\"Creating directory...\", end=\"\")\n",
        "\t\t\tif outDir == None:\n",
        "\t\t\t\tos.mkdir(search)\n",
        "\t\t\telse:\n",
        "\t\t\t\tos.mkdir(f\"{outDir}/{search}\")\n",
        "\t\t\tprint(\"Done\")\n",
        "\t\texcept FileExistsError:\n",
        "\t\t\tprint(\"\\nDirectory already exits\")\n",
        "\n",
        "\t\turl = f\"https://www.google.com/search?q={addon}{search}&source=lnms&tbm=isch&sa=X&ved=2ahUKEwjozNPH4J3rAhVUU30KHXRzDSoQ_AUoAXoECBEQAw&biw=1366&bih=625\"       \n",
        "\t\tresponse = requests.request(\"GET\", url, headers=headers)\n",
        "\t\tsrcExtractor.feed(response.text)\n",
        "\t\tlen_src = len(srcExtractor.src)\n",
        "\n",
        "\t\tcount = 0\n",
        "\t\tfor each_src in tqdm(srcExtractor.src[:limit], bar_format='{l_bar}{bar:20}{r_bar}{bar:-10b}'):\n",
        "\t\t\tresponse = http.request('GET', each_src)\n",
        "\t\t\timg_data = BytesIO(response.data)\n",
        "\t\t\timage = Image.open(img_data).convert(\"RGBA\")\n",
        "\n",
        "\t\t\tif outDir == None:\n",
        "\t\t\t\timage.save(f\"{search}/{count+1}.png\")\n",
        "\t\t\telse:\n",
        "\t\t\t\timage.save(f\"{outDir}/{search}/{count+1}.png\")\n",
        "\t\t\tcount+=1\n",
        "\n",
        "\t\tprint(f\"Downloaded {count}/{limit} images\")\n",
        "\n",
        "\t\tsrcExtractor.src = [] \n",
        "\t\tprint(\"\\033[97m\" + 70 * '-' + \"\\033[00m\") \n",
        "\n",
        "\texcept:\n",
        "\t\tprint(\"\\033[31m\"+ \"Something went wrong!\\nPlease check passed options\" +\"\\033[00m\")\n",
        "\t\tsys.exit()\n",
        "\n",
        "#------------------------------------------------------------------------------------------------"
      ],
      "execution_count": 2,
      "outputs": []
    },
    {
      "cell_type": "code",
      "metadata": {
        "id": "Qo6PEEsJ5sP1",
        "colab": {
          "base_uri": "https://localhost:8080/"
        },
        "outputId": "e23788a3-ec78-4d96-c811-baa34cb64629"
      },
      "source": [
        "getImages(\"cat\")"
      ],
      "execution_count": 3,
      "outputs": [
        {
          "output_type": "stream",
          "text": [
            "\u001b[96mKeyword:cat\u001b[00m\n",
            "\n",
            "Creating directory...Done\n"
          ],
          "name": "stdout"
        },
        {
          "output_type": "stream",
          "text": [
            "100%|████████████████████| 30/30 [00:00<00:00, 61.93it/s]"
          ],
          "name": "stderr"
        },
        {
          "output_type": "stream",
          "text": [
            "Downloaded 30/30 images\n",
            "\u001b[97m----------------------------------------------------------------------\u001b[00m\n"
          ],
          "name": "stdout"
        },
        {
          "output_type": "stream",
          "text": [
            "\n"
          ],
          "name": "stderr"
        }
      ]
    },
    {
      "cell_type": "markdown",
      "metadata": {
        "id": "HAqj5a8UIu2E"
      },
      "source": [
        "# EOF"
      ]
    }
  ]
}